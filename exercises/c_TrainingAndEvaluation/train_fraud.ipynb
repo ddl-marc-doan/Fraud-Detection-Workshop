{
 "cells": [
  {
   "cell_type": "code",
   "execution_count": null,
   "id": "1e892762",
   "metadata": {},
   "outputs": [],
   "source": [
    "# train_fraud.ipynb\n",
    "from sklearn.naive_bayes import GaussianNB\n",
    "from sklearn.ensemble import AdaBoostClassifier\n",
    "from xgboost import XGBClassifier\n",
    "import os\n",
    "import sys\n",
    "sys.path.append(os.environ[\"DOMINO_WORKING_DIR\"])\n",
    "from domino_short_id import domino_short_id\n",
    "from exercises.c_TrainingAndEvaluation.generic_trainer import train_fraud\n",
    "\n",
    "\n",
    "# Load DataFrame from data source\n",
    "transformed_df_filename = 'transformed_cc_transactions.csv'\n",
    "\n",
    "ada_model = {'model': AdaBoostClassifier(\n",
    "            n_estimators=10,\n",
    "            learning_rate=0.001,\n",
    "            algorithm=\"SAMME\",\n",
    "        ), 'name': \"AdaBoost\"}\n",
    "gnb_model = {'model': GaussianNB(), \n",
    "             'name': \"GaussianNB\"}\n",
    "xbg_model = {'model': XGBClassifier(\n",
    "            n_estimators=100,\n",
    "            learning_rate=0.1,\n",
    "            max_depth=3,\n",
    "            subsample=0.8,\n",
    "            colsample_bytree=0.8,\n",
    "            tree_method='hist',\n",
    "            n_jobs=-1,\n",
    "            use_label_encoder=False,\n",
    "            eval_metric=\"auc\",\n",
    "        ), 'name': \"XGBoost\"}\n",
    "\n",
    "all_models = [ada_model, gnb_model, xbg_model]\n",
    "\n",
    "for model_dict in all_models:\n",
    "    model_name = model_dict['name']\n",
    "    model_obj = model_dict['model']\n",
    "    res = train_fraud(model_obj, model_name, transformed_df_filename)\n",
    "    print(f\"✅ Training {model_name} completed successfully\")\n",
    "    print(res)\n",
    "    \n",
    "print(f\"{'✅' * len(all_models)} Trainings completed successfully\")\n",
    "\n"
   ]
  }
 ],
 "metadata": {
  "kernelspec": {
   "display_name": "Python 3 (ipykernel)",
   "language": "python",
   "name": "python3"
  },
  "language_info": {
   "codemirror_mode": {
    "name": "ipython",
    "version": 3
   },
   "file_extension": ".py",
   "mimetype": "text/x-python",
   "name": "python",
   "nbconvert_exporter": "python",
   "pygments_lexer": "ipython3",
   "version": "3.10.14"
  }
 },
 "nbformat": 4,
 "nbformat_minor": 5
}
